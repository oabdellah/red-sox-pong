{
 "cells": [
  {
   "cell_type": "code",
   "execution_count": null,
   "metadata": {},
   "outputs": [],
   "source": [
    "import pygame, sys, random\n",
    "from pygame.locals import *\n",
    "pygame.init()\n",
    " \n",
    "# Colours\n",
    "BACKGROUND = (255, 255, 255)\n",
    " \n",
    "# Game Setup\n",
    "FPS = 60\n",
    "fpsClock = pygame.time.Clock()\n",
    "WINDOW_WIDTH = 400\n",
    "WINDOW_HEIGHT = 300\n",
    " \n",
    "WINDOW = pygame.display.set_mode((WINDOW_WIDTH, WINDOW_HEIGHT))\n",
    "pygame.display.set_caption('My Game!')\n",
    " \n",
    "# The main function that controls the game\n",
    "def main () :\n",
    "  looping = True\n",
    "  \n",
    "  # The main game loop\n",
    "  while looping :\n",
    "    # Get inputs\n",
    "    for event in pygame.event.get() :\n",
    "      if event.type == QUIT :\n",
    "        pygame.quit()\n",
    "        sys.exit()\n",
    "    \n",
    "    # Processing\n",
    "    # This section will be built out later\n",
    " \n",
    "    # Render elements of the game\n",
    "    WINDOW.fill(BACKGROUND)\n",
    "    pygame.display.update()\n",
    "    fpsClock.tick(FPS)\n",
    " \n",
    "main()\n"
   ]
  }
 ],
 "metadata": {
  "kernelspec": {
   "display_name": "Python 3",
   "language": "python",
   "name": "python3"
  },
  "language_info": {
   "name": "python",
   "version": "3.9.13"
  },
  "orig_nbformat": 4
 },
 "nbformat": 4,
 "nbformat_minor": 2
}
